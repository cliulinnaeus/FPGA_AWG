{
 "cells": [
  {
   "cell_type": "code",
   "execution_count": 58,
   "id": "0ee76913",
   "metadata": {},
   "outputs": [],
   "source": [
    "from FPGA_AWG_client import *"
   ]
  },
  {
   "cell_type": "code",
   "execution_count": 59,
   "id": "a5cc2239",
   "metadata": {},
   "outputs": [],
   "source": [
    "client = FPGA_AWG_client()\n"
   ]
  },
  {
   "cell_type": "code",
   "execution_count": 60,
   "id": "b5513d91",
   "metadata": {},
   "outputs": [
    {
     "name": "stdout",
     "output_type": "stream",
     "text": [
      "Connected to server 192.168.0.234 on port 8080\n"
     ]
    }
   ],
   "source": [
    "client.connect(host='192.168.0.234', port=8080)"
   ]
  },
  {
   "cell_type": "code",
   "execution_count": null,
   "id": "1afb1244-2a09-4a2b-9ccf-81ca5fb4c1c2",
   "metadata": {},
   "outputs": [],
   "source": []
  },
  {
   "cell_type": "code",
   "execution_count": 5,
   "id": "3daa1dfe-0377-419d-843d-ed3ca18c39ec",
   "metadata": {},
   "outputs": [],
   "source": [
    "waveform_dir = \"./waveform\"\n",
    "prog_dir = \"./program\"\n",
    "envelope_dir = \"./envelope\""
   ]
  },
  {
   "cell_type": "code",
   "execution_count": 61,
   "id": "4aa59a35-8e6d-4425-b713-6f998e9e3734",
   "metadata": {},
   "outputs": [
    {
     "name": "stdout",
     "output_type": "stream",
     "text": [
      "[Server acknowledgement]: Current waveform list: ['X2half', 'X1half', 'X2', 'X_periodic']\n",
      "[Server acknowledgement]: Current program list: ['f_Echo', 'test_prog']\n",
      "[Server acknowledgement]: Current envelope list: []\n"
     ]
    }
   ],
   "source": [
    "client.get_waveform_lst()\n",
    "client.get_program_lst()\n",
    "client.get_envelope_lst()"
   ]
  },
  {
   "cell_type": "code",
   "execution_count": 10,
   "id": "e0436fe3",
   "metadata": {},
   "outputs": [
    {
     "name": "stdout",
     "output_type": "stream",
     "text": [
      "File has been sent.\n",
      "[Server acknowledgement]: File received successfully.\n",
      "File has been sent.\n",
      "[Server acknowledgement]: File received successfully.\n",
      "File has been sent.\n",
      "[Server acknowledgement]: File received successfully.\n",
      "File has been sent.\n",
      "[Server acknowledgement]: File received successfully.\n",
      "File has been sent.\n",
      "[Server acknowledgement]: File received successfully.\n",
      "File has been sent.\n",
      "[Server acknowledgement]: File received successfully.\n"
     ]
    }
   ],
   "source": [
    "\n",
    "path = waveform_dir + \"/\" + \"X.json\"\n",
    "client.upload_waveform_cfg(path, name=\"X\")\n",
    "\n",
    "path = waveform_dir + \"/\" + \"Y.json\"\n",
    "client.upload_waveform_cfg(path, name=\"Y\")\n",
    "\n",
    "path = waveform_dir + \"/\" + \"X_half.json\"\n",
    "client.upload_waveform_cfg(path, name=\"X_half\")\n",
    "\n",
    "path = waveform_dir + \"/\" + \"n_X_half.json\"\n",
    "client.upload_waveform_cfg(path, name=\"n_X_half\")\n",
    "\n",
    "path = waveform_dir + \"/\" + \"X_periodic.json\"\n",
    "client.upload_waveform_cfg(path, name=\"X_periodic\")\n",
    "\n",
    "path = waveform_dir + \"/\" + \"X_enveloped.json\"\n",
    "client.upload_waveform_cfg(path, name=\"X_enveloped\")\n"
   ]
  },
  {
   "cell_type": "code",
   "execution_count": 25,
   "id": "e63e5469",
   "metadata": {},
   "outputs": [
    {
     "name": "stdout",
     "output_type": "stream",
     "text": [
      "File has been sent.\n",
      "[Server acknowledgement]: File received successfully.\n"
     ]
    }
   ],
   "source": [
    "path = waveform_dir + \"/\" + \"X_periodic.json\"\n",
    "client.upload_waveform_cfg(path, name=\"X_periodic\")"
   ]
  },
  {
   "cell_type": "code",
   "execution_count": 12,
   "id": "8e85e751-20ff-4d2d-aad6-23ef476a130c",
   "metadata": {},
   "outputs": [
    {
     "name": "stdout",
     "output_type": "stream",
     "text": [
      "File has been sent.\n",
      "[Server acknowledgement]: File received successfully.\n"
     ]
    }
   ],
   "source": [
    "path = prog_dir + \"/\" + \"XY8.json\"\n",
    "client.upload_program(path, name=\"XY8\")"
   ]
  },
  {
   "cell_type": "code",
   "execution_count": 7,
   "id": "4fbfe9c6-ed32-411a-9827-81579ca5cc79",
   "metadata": {},
   "outputs": [
    {
     "name": "stdout",
     "output_type": "stream",
     "text": [
      "File has been sent.\n",
      "[Server acknowledgement]: File received successfully.\n"
     ]
    }
   ],
   "source": [
    "path = prog_dir + \"/\" + \"looped_XY8.json\"\n",
    "client.upload_program(path, name=\"looped_XY8\")"
   ]
  },
  {
   "cell_type": "code",
   "execution_count": 26,
   "id": "bb591be6-2d07-4894-9745-6f79f2573af8",
   "metadata": {},
   "outputs": [
    {
     "name": "stdout",
     "output_type": "stream",
     "text": [
      "File has been sent.\n",
      "[Server acknowledgement]: File received successfully.\n"
     ]
    }
   ],
   "source": [
    "path = prog_dir + \"/\" + \"test_prog.json\"\n",
    "client.upload_program(path, name=\"test_prog\")"
   ]
  },
  {
   "cell_type": "code",
   "execution_count": 62,
   "id": "7e41d79d",
   "metadata": {},
   "outputs": [
    {
     "name": "stdout",
     "output_type": "stream",
     "text": [
      "File has been sent.\n",
      "[Server acknowledgement]: File received successfully.\n",
      "File has been sent.\n",
      "[Server acknowledgement]: File received successfully.\n",
      "File has been sent.\n",
      "[Server acknowledgement]: File received successfully.\n",
      "File has been sent.\n",
      "[Server acknowledgement]: File received successfully.\n"
     ]
    }
   ],
   "source": [
    "path = prog_dir + \"/\" + \"f_Echo.json\"\n",
    "client.upload_program(path, name=\"f_Echo\")\n",
    "\n",
    "path = waveform_dir + \"/\" + \"X1half.json\"\n",
    "client.upload_waveform_cfg(path, name=\"X1half\")\n",
    "\n",
    "path = waveform_dir + \"/\" + \"X2.json\"\n",
    "client.upload_waveform_cfg(path, name=\"X2\")\n",
    "\n",
    "path = waveform_dir + \"/\" + \"X2half.json\"\n",
    "client.upload_waveform_cfg(path, name=\"X2half\")\n"
   ]
  },
  {
   "cell_type": "code",
   "execution_count": 63,
   "id": "f3186b0a",
   "metadata": {},
   "outputs": [
    {
     "name": "stdout",
     "output_type": "stream",
     "text": [
      "[Server acknowledgement]: Trigger is set to internal.\n"
     ]
    }
   ],
   "source": [
    "client.set_trigger_mode(\"internal\")"
   ]
  },
  {
   "cell_type": "code",
   "execution_count": 68,
   "id": "8fdae6f1-ec34-4c10-b0c6-086477b9f870",
   "metadata": {},
   "outputs": [
    {
     "name": "stdout",
     "output_type": "stream",
     "text": [
      "[Server acknowledgement]: Program [f_Echo] has started...\n"
     ]
    }
   ],
   "source": [
    "client.start_program(\"test_prog\")"
   ]
  },
  {
   "cell_type": "code",
   "execution_count": 69,
   "id": "0d2a0c9e-ccc2-4103-939b-56d703ca13f1",
   "metadata": {},
   "outputs": [
    {
     "name": "stdout",
     "output_type": "stream",
     "text": [
      "[Server acknowledgement]: Program is stopped. Server resumes listening...\n"
     ]
    }
   ],
   "source": [
    "client.stop_program()"
   ]
  },
  {
   "cell_type": "code",
   "execution_count": 56,
   "id": "9011db28",
   "metadata": {},
   "outputs": [
    {
     "name": "stdout",
     "output_type": "stream",
     "text": [
      "Disconnected from server at 192.168.0.234:8080\n"
     ]
    }
   ],
   "source": [
    "client.disconnect()"
   ]
  },
  {
   "cell_type": "markdown",
   "id": "6cb6630f-912b-4a82-b2f5-ae76013fa191",
   "metadata": {},
   "source": [
    "### Generate enveloped pulse"
   ]
  },
  {
   "cell_type": "code",
   "execution_count": null,
   "id": "b105a2c9-2f10-47ff-b453-d9bcca699143",
   "metadata": {},
   "outputs": [],
   "source": [
    " import numpy as np\n",
    "\n",
    "# Parameters\n",
    "max_value = 30000\n",
    "n_values = 3200  # Length of the list, multiple of 16\n",
    "\n",
    "# Generate angles between 0 and pi (half-circle)\n",
    "angles = np.linspace(0, np.pi, n_values)\n",
    "\n",
    "# Compute the corresponding y-values on the half-circle\n",
    "half_circle_values = np.sin(angles)\n",
    "\n",
    "# Scale values to the desired range [0, max_value]\n",
    "scaled_values = (half_circle_values * max_value).astype(int)\n",
    "\n",
    "# Convert to a list\n",
    "number_list = scaled_values.tolist()\n",
    "\n",
    "print(\"Generated list:\")\n",
    "# print(number_list)"
   ]
  },
  {
   "cell_type": "code",
   "execution_count": null,
   "id": "d9b627a1-08f9-4406-bbf1-cd2614aa7a9c",
   "metadata": {},
   "outputs": [],
   "source": [
    "import matplotlib.pyplot as plt\n",
    "plt.plot(number_list)"
   ]
  },
  {
   "cell_type": "code",
   "execution_count": 5,
   "id": "e63b139a-fc70-4d93-b190-dfc9d0c88065",
   "metadata": {},
   "outputs": [],
   "source": [
    "import csv\n",
    "\n",
    "# List of numbers\n",
    "\n",
    "def save_to_csv(csv_filename, lst):\n",
    "    # Open the CSV file in write mode\n",
    "    with open(csv_filename, mode='w', newline='') as file:\n",
    "        writer = csv.writer(file)\n",
    "\n",
    "        # Write each number as a new row in the CSV\n",
    "        for item in lst:\n",
    "            writer.writerow([item])\n",
    "            \n",
    "def read_csv_to_lst(csv_filename):\n",
    "    lst = []\n",
    "    # Open the CSV file in read mode\n",
    "    with open(csv_filename, mode='r') as file:\n",
    "        reader = csv.reader(file)\n",
    "\n",
    "        # Read each row and append the number to the list\n",
    "        for row in reader:\n",
    "            # Convert the number from string to int (or float, if needed)\n",
    "            lst.append(int(row[0]))  # Use float(row[0]) if they are floating-point numbers\n",
    "    return lst"
   ]
  },
  {
   "cell_type": "code",
   "execution_count": null,
   "id": "3549cf94-d0a0-485b-a10b-cfc7b35b562e",
   "metadata": {},
   "outputs": [],
   "source": [
    "idata_name = \"./envelope/half_circle.csv\"\n",
    "save_to_csv(idata_name, number_list)"
   ]
  },
  {
   "cell_type": "code",
   "execution_count": null,
   "id": "4f71cf81-068d-4a08-b0dc-f5db564e893a",
   "metadata": {},
   "outputs": [],
   "source": [
    "client.upload_envelope_data(idata_name, name=\"half_circle\")"
   ]
  },
  {
   "cell_type": "code",
   "execution_count": null,
   "id": "c4fedd64-4cbd-4a30-88f3-e3f62d314d82",
   "metadata": {},
   "outputs": [],
   "source": [
    "path = prog_dir + \"/\" + \"test_envelope.json\"\n",
    "\n",
    "client.upload_program(path, name=\"test_envelope\")"
   ]
  },
  {
   "cell_type": "code",
   "execution_count": null,
   "id": "9f003760-8ae4-4cdf-9215-1fedfc1350d7",
   "metadata": {},
   "outputs": [],
   "source": [
    "client.get_program_lst()\n",
    "client.get_envelope_lst()\n",
    "client.get_waveform_lst()"
   ]
  },
  {
   "cell_type": "code",
   "execution_count": null,
   "id": "d196a287-9bee-427b-9294-1dce7c51823f",
   "metadata": {},
   "outputs": [],
   "source": []
  },
  {
   "cell_type": "code",
   "execution_count": 8,
   "id": "07a8244d-e4c9-4b32-8157-2ab77b6dea6a",
   "metadata": {},
   "outputs": [
    {
     "name": "stdout",
     "output_type": "stream",
     "text": [
      "[Server acknowledgement]: Program [looped_XY8] has started...\n"
     ]
    }
   ],
   "source": [
    "client.start_program(\"looped_XY8\")"
   ]
  },
  {
   "cell_type": "code",
   "execution_count": 9,
   "id": "94d0608b-5c11-454d-9dcf-01e5794af2af",
   "metadata": {},
   "outputs": [
    {
     "name": "stdout",
     "output_type": "stream",
     "text": [
      "[Server acknowledgement]: Program is stopped. Server resumes listening...\n"
     ]
    }
   ],
   "source": [
    "\n",
    "client.stop_program()"
   ]
  },
  {
   "cell_type": "code",
   "execution_count": null,
   "id": "3fad092e-40dc-4ebf-bc2f-3bdbe6f6d140",
   "metadata": {},
   "outputs": [],
   "source": [
    "client.disconnect()"
   ]
  },
  {
   "cell_type": "markdown",
   "id": "313465b7-15de-49c4-aa58-f6063211f3b1",
   "metadata": {},
   "source": [
    "### Generate another enveloped pulse"
   ]
  },
  {
   "cell_type": "code",
   "execution_count": 6,
   "id": "c4abcae1-5a24-4419-8545-b69d0f4640b1",
   "metadata": {},
   "outputs": [],
   "source": [
    "import numpy as np\n",
    "flat_top = np.ones(16 * 9 + 8, dtype=int) * 30000\n",
    "pad = np.zeros(8, dtype=int)\n",
    "\n",
    "flat_envelope = np.concatenate((flat_top, pad))"
   ]
  },
  {
   "cell_type": "code",
   "execution_count": 7,
   "id": "68b3f6c4-9cb4-4586-866a-d180c160f5f4",
   "metadata": {},
   "outputs": [
    {
     "data": {
      "text/plain": [
       "array([30000, 30000, 30000, 30000, 30000, 30000, 30000, 30000, 30000,\n",
       "       30000, 30000, 30000, 30000, 30000, 30000, 30000, 30000, 30000,\n",
       "       30000, 30000, 30000, 30000, 30000, 30000, 30000, 30000, 30000,\n",
       "       30000, 30000, 30000, 30000, 30000, 30000, 30000, 30000, 30000,\n",
       "       30000, 30000, 30000, 30000, 30000, 30000, 30000, 30000, 30000,\n",
       "       30000, 30000, 30000, 30000, 30000, 30000, 30000, 30000, 30000,\n",
       "       30000, 30000, 30000, 30000, 30000, 30000, 30000, 30000, 30000,\n",
       "       30000, 30000, 30000, 30000, 30000, 30000, 30000, 30000, 30000,\n",
       "       30000, 30000, 30000, 30000, 30000, 30000, 30000, 30000, 30000,\n",
       "       30000, 30000, 30000, 30000, 30000, 30000, 30000, 30000, 30000,\n",
       "       30000, 30000, 30000, 30000, 30000, 30000, 30000, 30000, 30000,\n",
       "       30000, 30000, 30000, 30000, 30000, 30000, 30000, 30000, 30000,\n",
       "       30000, 30000, 30000, 30000, 30000, 30000, 30000, 30000, 30000,\n",
       "       30000, 30000, 30000, 30000, 30000, 30000, 30000, 30000, 30000,\n",
       "       30000, 30000, 30000, 30000, 30000, 30000, 30000, 30000, 30000,\n",
       "       30000, 30000, 30000, 30000, 30000, 30000, 30000, 30000, 30000,\n",
       "       30000, 30000, 30000, 30000, 30000, 30000, 30000, 30000,     0,\n",
       "           0,     0,     0,     0,     0,     0,     0])"
      ]
     },
     "execution_count": 7,
     "metadata": {},
     "output_type": "execute_result"
    }
   ],
   "source": [
    "flat_envelope"
   ]
  },
  {
   "cell_type": "code",
   "execution_count": 115,
   "id": "4e77c703-0d7f-4a91-aea0-ccd8e72bc0dc",
   "metadata": {},
   "outputs": [],
   "source": [
    "idata_name = \"./envelope/flat.csv\"\n",
    "save_to_csv(idata_name, flat_envelope)"
   ]
  },
  {
   "cell_type": "code",
   "execution_count": 116,
   "id": "abc86e6e-58f8-47b1-a87c-3de8b3380423",
   "metadata": {},
   "outputs": [
    {
     "name": "stdout",
     "output_type": "stream",
     "text": [
      "File has been sent.\n",
      "[Server acknowledgement]: File received successfully.\n"
     ]
    }
   ],
   "source": [
    "client.upload_envelope_data(idata_name, name=\"flat\")"
   ]
  },
  {
   "cell_type": "code",
   "execution_count": 130,
   "id": "47f8d2f6-4ed1-4b58-9898-5c45d6ef435e",
   "metadata": {},
   "outputs": [
    {
     "name": "stdout",
     "output_type": "stream",
     "text": [
      "File has been sent.\n",
      "[Server acknowledgement]: File received successfully.\n",
      "File has been sent.\n",
      "[Server acknowledgement]: File received successfully.\n",
      "File has been sent.\n",
      "[Server acknowledgement]: File received successfully.\n"
     ]
    }
   ],
   "source": [
    "path = waveform_dir + \"/\" + \"X.json\"\n",
    "client.upload_waveform_cfg(path, name=\"X\")\n",
    "\n",
    "path = waveform_dir + \"/\" + \"X_enveloped.json\"\n",
    "client.upload_waveform_cfg(path, name=\"X_enveloped\")\n",
    "\n",
    "path = waveform_dir + \"/\" + \"X_periodic.json\"\n",
    "client.upload_waveform_cfg(path, name=\"X_periodic\")"
   ]
  },
  {
   "cell_type": "code",
   "execution_count": 131,
   "id": "35f4f8dd-4423-44a2-ac3a-d3421f5bd732",
   "metadata": {},
   "outputs": [
    {
     "name": "stdout",
     "output_type": "stream",
     "text": [
      "File has been sent.\n",
      "[Server acknowledgement]: File received successfully.\n"
     ]
    }
   ],
   "source": [
    "path = prog_dir + \"/\" + \"test_buffer.json\"\n",
    "\n",
    "client.upload_program(path, name=\"test_buffer\")"
   ]
  },
  {
   "cell_type": "code",
   "execution_count": 124,
   "id": "2843acdc-7050-4ce8-9c8c-996991360a87",
   "metadata": {},
   "outputs": [
    {
     "name": "stdout",
     "output_type": "stream",
     "text": [
      "[Server acknowledgement]: Current waveform list: ['X', 'X_enveloped', 'X_periodic']\n",
      "[Server acknowledgement]: Current envelope list: ['flat']\n",
      "[Server acknowledgement]: Current program list: ['test_buffer']\n"
     ]
    }
   ],
   "source": [
    "client.get_waveform_lst()\n",
    "client.get_envelope_lst()\n",
    "client.get_program_lst()"
   ]
  },
  {
   "cell_type": "code",
   "execution_count": 132,
   "id": "c33e01c9-7640-4989-92c3-e76a442c40c0",
   "metadata": {},
   "outputs": [
    {
     "name": "stdout",
     "output_type": "stream",
     "text": [
      "[Server acknowledgement]: Program [test_buffer] has started...\n"
     ]
    }
   ],
   "source": [
    "client.start_program(\"test_buffer\")"
   ]
  },
  {
   "cell_type": "code",
   "execution_count": 133,
   "id": "63332f67-eb6b-4171-92fa-a8432981ada3",
   "metadata": {},
   "outputs": [
    {
     "name": "stdout",
     "output_type": "stream",
     "text": [
      "[Server acknowledgement]: Program is stopped. Server resumes listening...\n"
     ]
    }
   ],
   "source": [
    "client.stop_program()"
   ]
  },
  {
   "cell_type": "code",
   "execution_count": null,
   "id": "a31706eb-4d2f-42e9-9b1d-7d7dbfb7cda0",
   "metadata": {},
   "outputs": [],
   "source": []
  },
  {
   "cell_type": "code",
   "execution_count": null,
   "id": "9f18ab0e-b15e-47c2-bcbb-b60e81d26c60",
   "metadata": {},
   "outputs": [],
   "source": []
  },
  {
   "cell_type": "code",
   "execution_count": null,
   "id": "49ae42d3-72b4-4ebb-af44-21b632e9dc4f",
   "metadata": {},
   "outputs": [],
   "source": []
  },
  {
   "cell_type": "code",
   "execution_count": null,
   "id": "ab075863-59b5-41fb-8e9b-694093c9a25a",
   "metadata": {},
   "outputs": [],
   "source": []
  },
  {
   "cell_type": "code",
   "execution_count": null,
   "id": "c018ecdf-a2e8-4785-a7ba-3ba338b84b70",
   "metadata": {},
   "outputs": [],
   "source": []
  },
  {
   "cell_type": "code",
   "execution_count": null,
   "id": "622e2587-008d-40c1-bc3b-4d75fe6a1755",
   "metadata": {},
   "outputs": [],
   "source": []
  }
 ],
 "metadata": {
  "kernelspec": {
   "display_name": "Python 3",
   "language": "python",
   "name": "python3"
  },
  "language_info": {
   "codemirror_mode": {
    "name": "ipython",
    "version": 3
   },
   "file_extension": ".py",
   "mimetype": "text/x-python",
   "name": "python",
   "nbconvert_exporter": "python",
   "pygments_lexer": "ipython3",
   "version": "3.7.10"
  }
 },
 "nbformat": 4,
 "nbformat_minor": 5
}
