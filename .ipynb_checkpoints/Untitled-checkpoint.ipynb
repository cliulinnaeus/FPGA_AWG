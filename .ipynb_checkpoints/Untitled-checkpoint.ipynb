{
 "cells": [
  {
   "cell_type": "code",
   "execution_count": 1,
   "id": "0ee76913",
   "metadata": {},
   "outputs": [],
   "source": [
    "from FPGA_AWG_client import *"
   ]
  },
  {
   "cell_type": "code",
   "execution_count": 2,
   "id": "a5cc2239",
   "metadata": {},
   "outputs": [],
   "source": [
    "client = FPGA_AWG_client()\n"
   ]
  },
  {
   "cell_type": "code",
   "execution_count": 5,
   "id": "b5513d91",
   "metadata": {},
   "outputs": [
    {
     "name": "stdout",
     "output_type": "stream",
     "text": [
      "Error connecting to server: [WinError 10061] No connection could be made because the target machine actively refused it\n"
     ]
    }
   ],
   "source": [
    "client.connect(host='192.168.0.234', port=2345)"
   ]
  },
  {
   "cell_type": "code",
   "execution_count": null,
   "id": "e0436fe3",
   "metadata": {},
   "outputs": [
    {
     "name": "stdout",
     "output_type": "stream",
     "text": [
      "File has been sent.\n"
     ]
    }
   ],
   "source": [
    "client.upload_waveform_cfg(\"./test_wf_cfg.json\", name=\"X_pi\")"
   ]
  },
  {
   "cell_type": "code",
   "execution_count": null,
   "id": "76386ccb",
   "metadata": {},
   "outputs": [],
   "source": [
    "# TODO: figure out the overwrite\n",
    "client.upload_waveform_cfg(\"./test_wf_cfg.json\", name=\"Y_pi\")"
   ]
  },
  {
   "cell_type": "code",
   "execution_count": null,
   "id": "b3b60017",
   "metadata": {},
   "outputs": [],
   "source": [
    "# TODO: \n",
    "client.upload_program(\"./test_prog.json\", name=\"test_program\")"
   ]
  },
  {
   "cell_type": "code",
   "execution_count": null,
   "id": "464bbd00",
   "metadata": {},
   "outputs": [],
   "source": [
    "# TODO: handle error case\n",
    "client.delete_waveform_cfg(name=\"X_pi\")"
   ]
  },
  {
   "cell_type": "code",
   "execution_count": null,
   "id": "4c03b60c",
   "metadata": {},
   "outputs": [],
   "source": [
    "client.delete_program(name=\"test_program\")"
   ]
  },
  {
   "cell_type": "code",
   "execution_count": null,
   "id": "2bf4b9e1",
   "metadata": {},
   "outputs": [],
   "source": [
    "client.delete_envelope_data(name=\"test_envelope\")"
   ]
  },
  {
   "cell_type": "code",
   "execution_count": null,
   "id": "a5190094",
   "metadata": {},
   "outputs": [],
   "source": [
    "client.upload_envelope_data(\"test_env.json\", name=\"test_env\")"
   ]
  },
  {
   "cell_type": "code",
   "execution_count": null,
   "id": "ff633ba1",
   "metadata": {},
   "outputs": [],
   "source": [
    "client.disconnect()"
   ]
  },
  {
   "cell_type": "code",
   "execution_count": null,
   "id": "aba57383",
   "metadata": {},
   "outputs": [],
   "source": [
    "\n",
    "a = \"test_wf\" \n",
    "b = \"test_wf\"\n",
    "a ==b"
   ]
  }
 ],
 "metadata": {
  "kernelspec": {
   "display_name": "Python 3",
   "language": "python",
   "name": "python3"
  },
  "language_info": {
   "codemirror_mode": {
    "name": "ipython",
    "version": 3
   },
   "file_extension": ".py",
   "mimetype": "text/x-python",
   "name": "python",
   "nbconvert_exporter": "python",
   "pygments_lexer": "ipython3",
   "version": "3.7.10"
  }
 },
 "nbformat": 4,
 "nbformat_minor": 5
}
