{
 "cells": [
  {
   "cell_type": "code",
   "execution_count": 30,
   "id": "0ee76913",
   "metadata": {},
   "outputs": [],
   "source": [
    "from FPGA_AWG_client import *"
   ]
  },
  {
   "cell_type": "code",
   "execution_count": 31,
   "id": "a5cc2239",
   "metadata": {},
   "outputs": [],
   "source": [
    "client = FPGA_AWG_client()\n"
   ]
  },
  {
   "cell_type": "code",
   "execution_count": 32,
   "id": "b5513d91",
   "metadata": {},
   "outputs": [
    {
     "name": "stdout",
     "output_type": "stream",
     "text": [
      "Connected to server 192.168.0.234 on port 8080\n"
     ]
    }
   ],
   "source": [
    "client.connect(host='192.168.0.234', port=8080)"
   ]
  },
  {
   "cell_type": "code",
   "execution_count": 33,
   "id": "3daa1dfe-0377-419d-843d-ed3ca18c39ec",
   "metadata": {},
   "outputs": [],
   "source": [
    "waveform_dir = \"./waveform\"\n",
    "prog_dir = \"./program\""
   ]
  },
  {
   "cell_type": "code",
   "execution_count": 34,
   "id": "e0436fe3",
   "metadata": {},
   "outputs": [
    {
     "name": "stdout",
     "output_type": "stream",
     "text": [
      "File has been sent.\n",
      "[Server acknowledgement]: File received successfully.\n",
      "File has been sent.\n",
      "[Server acknowledgement]: File received successfully.\n",
      "File has been sent.\n",
      "[Server acknowledgement]: File received successfully.\n",
      "File has been sent.\n",
      "[Server acknowledgement]: File received successfully.\n",
      "File has been sent.\n",
      "[Server acknowledgement]: File received successfully.\n"
     ]
    }
   ],
   "source": [
    "\n",
    "path = waveform_dir + \"/\" + \"X.json\"\n",
    "client.upload_waveform_cfg(path, name=\"X\")\n",
    "\n",
    "path = waveform_dir + \"/\" + \"Y.json\"\n",
    "client.upload_waveform_cfg(path, name=\"Y\")\n",
    "\n",
    "path = waveform_dir + \"/\" + \"X_half.json\"\n",
    "client.upload_waveform_cfg(path, name=\"X_half\")\n",
    "\n",
    "path = waveform_dir + \"/\" + \"n_X_half.json\"\n",
    "client.upload_waveform_cfg(path, name=\"n_X_half\")\n",
    "\n",
    "path = waveform_dir + \"/\" + \"X_periodic.json\"\n",
    "client.upload_waveform_cfg(path, name=\"X_periodic\")\n"
   ]
  },
  {
   "cell_type": "code",
   "execution_count": 27,
   "id": "8e85e751-20ff-4d2d-aad6-23ef476a130c",
   "metadata": {},
   "outputs": [
    {
     "name": "stdout",
     "output_type": "stream",
     "text": [
      "File has been sent.\n",
      "[Server acknowledgement]: File received successfully.\n"
     ]
    }
   ],
   "source": [
    "path = prog_dir + \"/\" + \"XY8.json\"\n",
    "client.upload_program(path, name=\"XY8\")"
   ]
  },
  {
   "cell_type": "code",
   "execution_count": 35,
   "id": "bb591be6-2d07-4894-9745-6f79f2573af8",
   "metadata": {},
   "outputs": [
    {
     "name": "stdout",
     "output_type": "stream",
     "text": [
      "File has been sent.\n",
      "[Server acknowledgement]: File received successfully.\n"
     ]
    }
   ],
   "source": [
    "path = prog_dir + \"/\" + \"test_prog.json\"\n",
    "client.upload_program(path, name=\"test_prog\")"
   ]
  },
  {
   "cell_type": "code",
   "execution_count": null,
   "id": "468a79e5-4963-43f7-8588-3f2424d11cbe",
   "metadata": {},
   "outputs": [],
   "source": []
  },
  {
   "cell_type": "code",
   "execution_count": 36,
   "id": "8fdae6f1-ec34-4c10-b0c6-086477b9f870",
   "metadata": {},
   "outputs": [],
   "source": [
    "client.start_program(\"test_prog\")"
   ]
  },
  {
   "cell_type": "code",
   "execution_count": 37,
   "id": "0d2a0c9e-ccc2-4103-939b-56d703ca13f1",
   "metadata": {},
   "outputs": [],
   "source": [
    "client.stop_program()"
   ]
  },
  {
   "cell_type": "code",
   "execution_count": null,
   "id": "a1f61c72-5193-4120-a626-fc74a1d43f56",
   "metadata": {},
   "outputs": [],
   "source": []
  },
  {
   "cell_type": "code",
   "execution_count": null,
   "id": "e7942371-2abd-4d86-9a50-0eabbda268f3",
   "metadata": {},
   "outputs": [],
   "source": []
  },
  {
   "cell_type": "code",
   "execution_count": null,
   "id": "d9b627a1-08f9-4406-bbf1-cd2614aa7a9c",
   "metadata": {},
   "outputs": [],
   "source": []
  },
  {
   "cell_type": "code",
   "execution_count": null,
   "id": "e63b139a-fc70-4d93-b190-dfc9d0c88065",
   "metadata": {},
   "outputs": [],
   "source": []
  },
  {
   "cell_type": "code",
   "execution_count": null,
   "id": "4f71cf81-068d-4a08-b0dc-f5db564e893a",
   "metadata": {},
   "outputs": [],
   "source": []
  }
 ],
 "metadata": {
  "kernelspec": {
   "display_name": "Python 3",
   "language": "python",
   "name": "python3"
  },
  "language_info": {
   "codemirror_mode": {
    "name": "ipython",
    "version": 3
   },
   "file_extension": ".py",
   "mimetype": "text/x-python",
   "name": "python",
   "nbconvert_exporter": "python",
   "pygments_lexer": "ipython3",
   "version": "3.7.10"
  }
 },
 "nbformat": 4,
 "nbformat_minor": 5
}
